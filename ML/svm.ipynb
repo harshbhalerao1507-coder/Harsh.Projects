{
 "cells": [
  {
   "cell_type": "code",
   "execution_count": null,
   "id": "2553bca8",
   "metadata": {},
   "outputs": [],
   "source": []
  },
  {
   "cell_type": "code",
   "execution_count": 2,
   "id": "2123e363",
   "metadata": {},
   "outputs": [],
   "source": [
    "from sklearn.svm import SVR\n",
    "from sklearn.preprocessing import StandardScaler\n",
    "from sklearn.metrics import r2_score\n",
    "import numpy as np\n"
   ]
  },
  {
   "cell_type": "code",
   "execution_count": null,
   "id": "80fd5588",
   "metadata": {},
   "outputs": [
    {
     "name": "stdout",
     "output_type": "stream",
     "text": [
      "0.6828182344697307\n"
     ]
    },
    {
     "name": "stderr",
     "output_type": "stream",
     "text": [
      "C:\\Users\\ACER SAI\\AppData\\Roaming\\Python\\Python312\\site-packages\\sklearn\\utils\\validation.py:1406: DataConversionWarning: A column-vector y was passed when a 1d array was expected. Please change the shape of y to (n_samples, ), for example using ravel().\n",
      "  y = column_or_1d(y, warn=True)\n"
     ]
    }
   ],
   "source": [
    "x=np.array([[1],[2],[3],[4],[5],[6],[7]])\n",
    "y=np.array([1.9,5.4,7.8,9.4,9.5,9.6,10.3])\n",
    "x_scale=StandardScaler()\n",
    "y_scale=StandardScaler()\n",
    "x_std =x_scale.fit_transform(x)\n",
    "y_std=y_scale.fit_transform(y.reshape(-1,1))\n",
    "\n",
    "model =SVR(kernel='rbf')\n",
    "model.fit(x_std,y_std)\n",
    "pred=model.predict(x_std)\n",
    "print(r2_score(pred,y_std))"
   ]
  }
 ],
 "metadata": {
  "kernelspec": {
   "display_name": "Python 3",
   "language": "python",
   "name": "python3"
  },
  "language_info": {
   "codemirror_mode": {
    "name": "ipython",
    "version": 3
   },
   "file_extension": ".py",
   "mimetype": "text/x-python",
   "name": "python",
   "nbconvert_exporter": "python",
   "pygments_lexer": "ipython3",
   "version": "3.12.6"
  }
 },
 "nbformat": 4,
 "nbformat_minor": 5
}
