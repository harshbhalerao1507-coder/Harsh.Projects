{
 "cells": [
  {
   "cell_type": "code",
   "execution_count": 1,
   "id": "639a7c5a",
   "metadata": {},
   "outputs": [],
   "source": [
    "from sklearn.linear_model import LogisticRegression\n",
    "from sklearn.metrics import r2_score\n",
    "from sklearn.model_selection import train_test_split\n",
    "import numpy as np\n"
   ]
  },
  {
   "cell_type": "code",
   "execution_count": 2,
   "id": "617dd85b",
   "metadata": {},
   "outputs": [
    {
     "name": "stdout",
     "output_type": "stream",
     "text": [
      "Accuracy: 0.78\n",
      "Confusion Matrix:\n",
      " [[20  9]\n",
      " [ 2 19]]\n",
      "Classification Report:\n",
      "               precision    recall  f1-score   support\n",
      "\n",
      "           0       0.91      0.69      0.78        29\n",
      "           1       0.68      0.90      0.78        21\n",
      "\n",
      "    accuracy                           0.78        50\n",
      "   macro avg       0.79      0.80      0.78        50\n",
      "weighted avg       0.81      0.78      0.78        50\n",
      "\n"
     ]
    }
   ],
   "source": [
    "import numpy as np\n",
    "from sklearn.model_selection import train_test_split\n",
    "from sklearn.linear_model import LogisticRegression\n",
    "from sklearn.metrics import accuracy_score, confusion_matrix, classification_report\n",
    "\n",
    "# Data\n",
    "x = np.linspace(1, 20, 200).reshape(-1, 1)\n",
    "p = 1 / (1 + np.exp(-(0.5 * x - 5)))\n",
    "y = np.random.binomial(1, p).ravel()\n",
    "\n",
    "# Split\n",
    "x_train, x_test, y_train, y_test = train_test_split(x, y, test_size=0.25, random_state=42)\n",
    "\n",
    "# Model\n",
    "model = LogisticRegression()\n",
    "model.fit(x_train, y_train)\n",
    "\n",
    "# Predictions\n",
    "pred = model.predict(x_test)\n",
    "\n",
    "# Correct evaluation\n",
    "print(\"Accuracy:\", accuracy_score(y_test, pred))\n",
    "print(\"Confusion Matrix:\\n\", confusion_matrix(y_test, pred))\n",
    "print(\"Classification Report:\\n\", classification_report(y_test, pred))\n"
   ]
  }
 ],
 "metadata": {
  "kernelspec": {
   "display_name": "Python 3",
   "language": "python",
   "name": "python3"
  },
  "language_info": {
   "codemirror_mode": {
    "name": "ipython",
    "version": 3
   },
   "file_extension": ".py",
   "mimetype": "text/x-python",
   "name": "python",
   "nbconvert_exporter": "python",
   "pygments_lexer": "ipython3",
   "version": "3.12.6"
  }
 },
 "nbformat": 4,
 "nbformat_minor": 5
}
