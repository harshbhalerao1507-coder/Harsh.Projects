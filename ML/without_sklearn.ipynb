{
 "cells": [
  {
   "cell_type": "code",
   "execution_count": 24,
   "id": "c7badad4",
   "metadata": {},
   "outputs": [],
   "source": [
    "import pandas as pd\n",
    "import numpy as np \n",
    "import seaborn as sns\n",
    "from sklearn.model_selection import train_test_split\n",
    "import matplotlib.pyplot as plt\n"
   ]
  },
  {
   "cell_type": "code",
   "execution_count": 25,
   "id": "f8088f48",
   "metadata": {},
   "outputs": [],
   "source": [
    "class Linear_Regression:\n",
    "    def __init__(self):\n",
    "        self.weight=None\n",
    "        self.bias=None\n",
    "    def fit(self,x,y):\n",
    "        x_mean=x.mean()\n",
    "        y_mean=y.mean()\n",
    "        num=0\n",
    "        den=0\n",
    "        for i in range(len(x)):\n",
    "            num+=(x[i]-x_mean)*(y[i]-y_mean)\n",
    "            den+=(x[i]-x_mean)**2\n",
    "    \n",
    "        self.weight=num/den\n",
    "        self.bias=y_mean-(self.weight*x_mean)\n",
    "    \n",
    "    def predict(self,x):\n",
    "        return self.bias + (self.weight*x )"
   ]
  },
  {
   "cell_type": "code",
   "execution_count": 26,
   "id": "53507333",
   "metadata": {},
   "outputs": [],
   "source": [
    "df=pd.read_csv(\"Salary_Data.csv\")\n",
    "df.head()\n",
    "model=Linear_Regression()\n",
    "y=np.array(df['Salary'])\n",
    "x=np.array(df['YearsExperience'])\n",
    "x_train,x_test,y_train,y_test=train_test_split(x,y,test_size=0.25)\n",
    "\n",
    "model.fit(x_train,y_train)"
   ]
  },
  {
   "cell_type": "code",
   "execution_count": 27,
   "id": "069e9f79",
   "metadata": {},
   "outputs": [
    {
     "data": {
      "text/plain": [
       "array([ 60933.76133799,  61374.21910018, 106300.91084353, 108943.65741667,\n",
       "        65778.79672208,  94408.55126441, 122157.39028236, 109824.57294105,\n",
       "        69742.91658179,  67981.08553303,  93527.63574003, 118633.72818485,\n",
       "        66219.25448427])"
      ]
     },
     "execution_count": 27,
     "metadata": {},
     "output_type": "execute_result"
    }
   ],
   "source": [
    "pred=model.predict(x_test)\n",
    "pred"
   ]
  },
  {
   "cell_type": "code",
   "execution_count": 30,
   "id": "284b2f8f",
   "metadata": {},
   "outputs": [
    {
     "name": "stdout",
     "output_type": "stream",
     "text": [
      "Weight :4404.577621897353\n",
      "Bias:48160.48623448849\n"
     ]
    }
   ],
   "source": [
    "\n",
    "print(f'Weight :{model.weight}')\n",
    "print(f'Bias:{model.bias}')"
   ]
  },
  {
   "cell_type": "code",
   "execution_count": 1,
   "id": "35749550",
   "metadata": {},
   "outputs": [
    {
     "ename": "NameError",
     "evalue": "name 'plt' is not defined",
     "output_type": "error",
     "traceback": [
      "\u001b[31m---------------------------------------------------------------------------\u001b[39m",
      "\u001b[31mNameError\u001b[39m                                 Traceback (most recent call last)",
      "\u001b[36mCell\u001b[39m\u001b[36m \u001b[39m\u001b[32mIn[1]\u001b[39m\u001b[32m, line 1\u001b[39m\n\u001b[32m----> \u001b[39m\u001b[32m1\u001b[39m \u001b[43mplt\u001b[49m.title(\u001b[33m\"\u001b[39m\u001b[33mSalary Vs YearsOfExperience\u001b[39m\u001b[33m\"\u001b[39m)\n\u001b[32m      2\u001b[39m plt.scatter(x,y)\n\u001b[32m      3\u001b[39m plt.plot(x,model.bias + model.weight*x,color=\u001b[33m'\u001b[39m\u001b[33mr\u001b[39m\u001b[33m'\u001b[39m)\n",
      "\u001b[31mNameError\u001b[39m: name 'plt' is not defined"
     ]
    }
   ],
   "source": [
    "plt.title(\"Salary Vs YearsOfExperience\")\n",
    "plt.scatter(x,y)\n",
    "plt.plot(x,model.bias + model.weight*x,color='r')\n",
    "plt.xlabel('Years')\n",
    "plt.ylabel('Salary')\n",
    "plt.show()"
   ]
  },
  {
   "cell_type": "code",
   "execution_count": 34,
   "id": "7775bb16",
   "metadata": {},
   "outputs": [
    {
     "name": "stdout",
     "output_type": "stream",
     "text": [
      "MSE: 106148329.96852067\n",
      "R² Score: 0.8097119430988015\n"
     ]
    }
   ],
   "source": [
    "from sklearn.metrics import mean_squared_error, r2_score\n",
    "\n",
    "y_pred = model.predict(x)\n",
    "print(\"MSE:\", mean_squared_error(y, y_pred))\n",
    "print(\"R² Score:\", r2_score(y, y_pred))\n",
    "\n"
   ]
  }
 ],
 "metadata": {
  "kernelspec": {
   "display_name": "Python 3",
   "language": "python",
   "name": "python3"
  },
  "language_info": {
   "codemirror_mode": {
    "name": "ipython",
    "version": 3
   },
   "file_extension": ".py",
   "mimetype": "text/x-python",
   "name": "python",
   "nbconvert_exporter": "python",
   "pygments_lexer": "ipython3",
   "version": "3.12.6"
  }
 },
 "nbformat": 4,
 "nbformat_minor": 5
}
